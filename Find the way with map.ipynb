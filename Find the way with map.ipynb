{
 "cells": [
  {
   "cell_type": "code",
   "execution_count": 1,
   "id": "feb046c8",
   "metadata": {},
   "outputs": [],
   "source": [
    "#Write a Python program to triple all numbers of a given list of integers. Use Python map"
   ]
  },
  {
   "cell_type": "code",
   "execution_count": 2,
   "id": "8d3c4322",
   "metadata": {},
   "outputs": [],
   "source": [
    "def func(num):\n",
    "    return num*3"
   ]
  },
  {
   "cell_type": "code",
   "execution_count": 3,
   "id": "a5a67f66",
   "metadata": {},
   "outputs": [],
   "source": [
    "l=[1,2,3,3,5,6]"
   ]
  },
  {
   "cell_type": "code",
   "execution_count": 4,
   "id": "e7ea08e1",
   "metadata": {},
   "outputs": [
    {
     "name": "stdout",
     "output_type": "stream",
     "text": [
      "<map object at 0x000001E4EF8ECD60>\n"
     ]
    }
   ],
   "source": [
    "print(map(func,l))"
   ]
  },
  {
   "cell_type": "code",
   "execution_count": 5,
   "id": "23ea0a3e",
   "metadata": {},
   "outputs": [
    {
     "data": {
      "text/plain": [
       "[3, 6, 9, 9, 15, 18]"
      ]
     },
     "execution_count": 5,
     "metadata": {},
     "output_type": "execute_result"
    }
   ],
   "source": [
    "list(map(func,l))"
   ]
  },
  {
   "cell_type": "code",
   "execution_count": null,
   "id": "5a1d05d2",
   "metadata": {},
   "outputs": [],
   "source": []
  }
 ],
 "metadata": {
  "kernelspec": {
   "display_name": "Python 3 (ipykernel)",
   "language": "python",
   "name": "python3"
  },
  "language_info": {
   "codemirror_mode": {
    "name": "ipython",
    "version": 3
   },
   "file_extension": ".py",
   "mimetype": "text/x-python",
   "name": "python",
   "nbconvert_exporter": "python",
   "pygments_lexer": "ipython3",
   "version": "3.9.7"
  }
 },
 "nbformat": 4,
 "nbformat_minor": 5
}
